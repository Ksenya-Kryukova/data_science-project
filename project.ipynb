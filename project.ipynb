{
 "cells": [
  {
   "cell_type": "markdown",
   "metadata": {},
   "source": [
    "Задание 1\n",
    "Дана матрица рейтингов фильмов (строки - пользователи (10 человек), столбцы - фильмы (15 фильмов))\n",
    "a) Необходимо найти наиболее похожего пользователя по косинусной метрике для каждого из (ответ: 10 пар вида (x, y), где y - наиболее похожий пользователь на пользователя x).\n",
    "\n",
    "b) Предположим, вы захотели сжать признаковые описания пользователя с 15 фильмов, до, скажем, 5-ти признаков, как вы это сделаете?"
   ]
  },
  {
   "cell_type": "code",
   "execution_count": 1,
   "metadata": {},
   "outputs": [],
   "source": [
    "import matplotlib.pyplot as plt\n",
    "import numpy as np\n",
    "import math\n",
    "from math import sin, cos, tan\n",
    "from sympy import *\n",
    "from scipy.optimize import minimize\n",
    "%matplotlib inline"
   ]
  },
  {
   "cell_type": "code",
   "execution_count": 2,
   "metadata": {},
   "outputs": [],
   "source": [
    "raitings = np.array([[ 4,  4,  9,  4,  1,  6, 10,  7,  9,  6,  9,  2,  8,  6,  6],\n",
    "                     [ 9,  2,  5, 10,  7,  8, 10,  5,  6,  2,  1,  6,  8,  9,  7],\n",
    "                     [ 1,  6,  8,  8,  4,  9,  3,  8, 10,  5,  2,  6,  8,  1,  6],\n",
    "                     [ 6,  1,  9,  7,  7,  9,  2,  3,  5,  1,  6,  6,  3,  2,  7],\n",
    "                     [ 3,  7,  3,  5,  7,  9,  9,  6,  2,  9,  1,  2,  8, 10,  6],\n",
    "                     [ 8,  3,  7,  3,  8,  6,  1,  8,  8,  6,  1,  9,  4, 10,  1],\n",
    "                     [ 9,  8,  4,  8,  8, 10,  6,  1,  1,  2,  9,  5,  2,  7,  2],\n",
    "                     [ 4,  1,  6,  4,  3, 10,  4,  4,  2,  8,  7,  9,  3,  8,  3],\n",
    "                     [ 2,  7,  7,  6, 10,  6,  8,  9,  8,  6, 10,  1,  7, 10,  4],\n",
    "                     [ 5, 10,  8,  8,  9,  7,  2,  9,  9, 10,  8,  8,  8,  6, 10]])"
   ]
  },
  {
   "cell_type": "code",
   "execution_count": 3,
   "metadata": {},
   "outputs": [],
   "source": [
    "from sklearn.metrics.pairwise import cosine_similarity    "
   ]
  },
  {
   "cell_type": "code",
   "execution_count": 4,
   "metadata": {},
   "outputs": [
    {
     "data": {
      "text/plain": [
       "array([[1.        , 0.82602919, 0.84921529, 0.78340116, 0.81917632,\n",
       "        0.74118548, 0.72735828, 0.80967522, 0.91065982, 0.86010776],\n",
       "       [0.82602919, 1.        , 0.81234325, 0.84635337, 0.87138052,\n",
       "        0.82713107, 0.82629684, 0.80026003, 0.82526308, 0.81968127],\n",
       "       [0.84921529, 0.81234325, 1.        , 0.84669374, 0.78394299,\n",
       "        0.79097985, 0.67616223, 0.76289552, 0.82112077, 0.91873051],\n",
       "       [0.78340116, 0.84635337, 0.84669374, 1.        , 0.69153409,\n",
       "        0.78665792, 0.83274211, 0.82934667, 0.7770666 , 0.8588687 ],\n",
       "       [0.81917632, 0.87138052, 0.78394299, 0.69153409, 1.        ,\n",
       "        0.7764434 , 0.78200468, 0.81236869, 0.87948477, 0.84574789],\n",
       "       [0.74118548, 0.82713107, 0.79097985, 0.78665792, 0.7764434 ,\n",
       "        1.        , 0.74011801, 0.84451685, 0.80622876, 0.85514908],\n",
       "       [0.72735828, 0.82629684, 0.67616223, 0.83274211, 0.78200468,\n",
       "        0.74011801, 1.        , 0.82669174, 0.81130044, 0.79154718],\n",
       "       [0.80967522, 0.80026003, 0.76289552, 0.82934667, 0.81236869,\n",
       "        0.84451685, 0.82669174, 1.        , 0.7981276 , 0.83682229],\n",
       "       [0.91065982, 0.82526308, 0.82112077, 0.7770666 , 0.87948477,\n",
       "        0.80622876, 0.81130044, 0.7981276 , 1.        , 0.90093797],\n",
       "       [0.86010776, 0.81968127, 0.91873051, 0.8588687 , 0.84574789,\n",
       "        0.85514908, 0.79154718, 0.83682229, 0.90093797, 1.        ]])"
      ]
     },
     "execution_count": 4,
     "metadata": {},
     "output_type": "execute_result"
    }
   ],
   "source": [
    "raitings_cos = cosine_similarity(raitings)\n",
    "raitings_cos "
   ]
  },
  {
   "cell_type": "code",
   "execution_count": 5,
   "metadata": {},
   "outputs": [
    {
     "name": "stdout",
     "output_type": "stream",
     "text": [
      "[[0.         0.82602919 0.84921529 0.78340116 0.81917632 0.74118548\n",
      "  0.72735828 0.80967522 0.91065982 0.86010776]\n",
      " [0.82602919 0.         0.81234325 0.84635337 0.87138052 0.82713107\n",
      "  0.82629684 0.80026003 0.82526308 0.81968127]\n",
      " [0.84921529 0.81234325 0.         0.84669374 0.78394299 0.79097985\n",
      "  0.67616223 0.76289552 0.82112077 0.91873051]\n",
      " [0.78340116 0.84635337 0.84669374 0.         0.69153409 0.78665792\n",
      "  0.83274211 0.82934667 0.7770666  0.8588687 ]\n",
      " [0.81917632 0.87138052 0.78394299 0.69153409 0.         0.7764434\n",
      "  0.78200468 0.81236869 0.87948477 0.84574789]\n",
      " [0.74118548 0.82713107 0.79097985 0.78665792 0.7764434  0.\n",
      "  0.74011801 0.84451685 0.80622876 0.85514908]\n",
      " [0.72735828 0.82629684 0.67616223 0.83274211 0.78200468 0.74011801\n",
      "  0.         0.82669174 0.81130044 0.79154718]\n",
      " [0.80967522 0.80026003 0.76289552 0.82934667 0.81236869 0.84451685\n",
      "  0.82669174 0.         0.7981276  0.83682229]\n",
      " [0.91065982 0.82526308 0.82112077 0.7770666  0.87948477 0.80622876\n",
      "  0.81130044 0.7981276  0.         0.90093797]\n",
      " [0.86010776 0.81968127 0.91873051 0.8588687  0.84574789 0.85514908\n",
      "  0.79154718 0.83682229 0.90093797 0.        ]]\n"
     ]
    }
   ],
   "source": [
    "i = 0\n",
    "for row in raitings_cos:\n",
    "    row[i] = 0\n",
    "    i += 1\n",
    "print(raitings_cos)"
   ]
  },
  {
   "cell_type": "code",
   "execution_count": 15,
   "metadata": {},
   "outputs": [
    {
     "name": "stdout",
     "output_type": "stream",
     "text": [
      "[(0, 8), (1, 4), (2, 9), (3, 9), (4, 8), (5, 9), (6, 3), (7, 5), (8, 0), (9, 2)]\n"
     ]
    }
   ],
   "source": [
    "string = np.arange(len(raitings_cos))\n",
    "column = np.argmax(raitings_cos, axis=1)\n",
    "x = zip(string, column)\n",
    "y = list(x)\n",
    "print(y)"
   ]
  },
  {
   "cell_type": "markdown",
   "metadata": {},
   "source": [
    "Во втором подзадании можно использовать TruncatedSVD или linalg.diagsvd"
   ]
  },
  {
   "cell_type": "code",
   "execution_count": 3,
   "metadata": {},
   "outputs": [],
   "source": [
    "from scipy import linalg"
   ]
  },
  {
   "cell_type": "code",
   "execution_count": 4,
   "metadata": {},
   "outputs": [
    {
     "name": "stdout",
     "output_type": "stream",
     "text": [
      "150\n"
     ]
    }
   ],
   "source": [
    "print(raitings.size)"
   ]
  },
  {
   "cell_type": "code",
   "execution_count": 5,
   "metadata": {},
   "outputs": [],
   "source": [
    "X = np.resize(raitings, (10, 5))"
   ]
  },
  {
   "cell_type": "code",
   "execution_count": 6,
   "metadata": {},
   "outputs": [],
   "source": [
    "U, d, Vt = linalg.svd(X)\n",
    "D = linalg.diagsvd(d, X.shape[0], X.shape[1])"
   ]
  },
  {
   "cell_type": "code",
   "execution_count": null,
   "metadata": {},
   "outputs": [],
   "source": []
  },
  {
   "cell_type": "markdown",
   "metadata": {},
   "source": [
    "Задание 2\n",
    "Вычислите производную tg^2(sin(x) + cos(2x+3)) в точке x_0 = 1 на python и на бумаге (просто подставить точку в производную и ничего не упрощать)."
   ]
  },
  {
   "cell_type": "code",
   "execution_count": 5,
   "metadata": {},
   "outputs": [],
   "source": [
    "x = symbols('x')"
   ]
  },
  {
   "cell_type": "code",
   "execution_count": 10,
   "metadata": {},
   "outputs": [
    {
     "data": {
      "text/latex": [
       "$\\displaystyle 2 \\left(- 2 \\sin{\\left(2 x + 3 \\right)} + \\cos{\\left(x \\right)}\\right) \\left(\\tan^{2}{\\left(\\sin{\\left(x \\right)} + \\cos{\\left(2 x + 3 \\right)} \\right)} + 1\\right) \\tan{\\left(\\sin{\\left(x \\right)} + \\cos{\\left(2 x + 3 \\right)} \\right)}$"
      ],
      "text/plain": [
       "2*(-2*sin(2*x + 3) + cos(x))*(tan(sin(x) + cos(2*x + 3))**2 + 1)*tan(sin(x) + cos(2*x + 3))"
      ]
     },
     "execution_count": 10,
     "metadata": {},
     "output_type": "execute_result"
    }
   ],
   "source": [
    "fx1 = diff(tan(sin(x)+cos(2*x+3))**2)\n",
    "fx1"
   ]
  },
  {
   "cell_type": "code",
   "execution_count": 11,
   "metadata": {},
   "outputs": [
    {
     "data": {
      "text/latex": [
       "$\\displaystyle 55.3859176353379$"
      ],
      "text/plain": [
       "55.3859176353379"
      ]
     },
     "execution_count": 11,
     "metadata": {},
     "output_type": "execute_result"
    }
   ],
   "source": [
    "fx1.evalf(subs = {'x' : 1})"
   ]
  },
  {
   "cell_type": "markdown",
   "metadata": {},
   "source": [
    "Задание 3\n",
    "Дана функция с неизвестными параметрами a и b, вам также известны значения функции fx в точках x. Найдите оптимальные параметры a, b, минимизирующие абсолютную ошибку error"
   ]
  },
  {
   "cell_type": "code",
   "execution_count": 2,
   "metadata": {},
   "outputs": [],
   "source": [
    "def f(x, a, b):\n",
    "    return np.e**a * np.sin(b*x) + x"
   ]
  },
  {
   "cell_type": "code",
   "execution_count": 3,
   "metadata": {},
   "outputs": [],
   "source": [
    "x = np.array([0.        , 0.26315789, 0.52631579, 0.78947368, 1.05263158,\n",
    "              1.31578947, 1.57894737, 1.84210526, 2.10526316, 2.36842105,\n",
    "              2.63157895, 2.89473684, 3.15789474, 3.42105263, 3.68421053,\n",
    "              3.94736842, 4.21052632, 4.47368421, 4.73684211, 5.        ])"
   ]
  },
  {
   "cell_type": "code",
   "execution_count": 4,
   "metadata": {},
   "outputs": [],
   "source": [
    "fx = np.array([  0.        , -12.01819092, -18.90968634, -17.68786571,\n",
    "                -8.7529108 ,   4.27524517,  16.06801336,  21.81250213,\n",
    "                19.22059845,   9.48411207,  -3.22273056, -13.48576488,\n",
    "               -16.91096359, -11.95866834,  -0.58630088,  12.56873816,\n",
    "                22.12489421,  24.20292139,  18.04522521,   6.33211092])"
   ]
  },
  {
   "cell_type": "code",
   "execution_count": 5,
   "metadata": {},
   "outputs": [
    {
     "data": {
      "image/png": "[encoded data removed]",
      "text/plain": [
       "<Figure size 432x288 with 1 Axes>"
      ]
     },
     "metadata": {
      "needs_background": "light"
     },
     "output_type": "display_data"
    }
   ],
   "source": [
    "plt.plot(x, fx)\n",
    "plt.grid()\n",
    "plt.show()"
   ]
  },
  {
   "cell_type": "code",
   "execution_count": 6,
   "metadata": {},
   "outputs": [],
   "source": [
    "def error(params):\n",
    "    return np.sum(np.abs(fx - f(x, params[0], params[1])))"
   ]
  },
  {
   "cell_type": "code",
   "execution_count": 20,
   "metadata": {},
   "outputs": [],
   "source": []
  },
  {
   "cell_type": "code",
   "execution_count": 9,
   "metadata": {},
   "outputs": [
    {
     "data": {
      "text/plain": [
       "     fun: 243.6852395719506\n",
       "   maxcv: 0.0\n",
       " message: 'Optimization terminated successfully.'\n",
       "    nfev: 31\n",
       "  status: 1\n",
       " success: True\n",
       "       x: array([1.05774623, 5.12280637])"
      ]
     },
     "execution_count": 9,
     "metadata": {},
     "output_type": "execute_result"
    }
   ],
   "source": [
    "result = minimize(error, (0, 5), method = 'COBYLA')\n",
    "result"
   ]
  },
  {
   "cell_type": "code",
   "execution_count": null,
   "metadata": {},
   "outputs": [],
   "source": []
  },
  {
   "cell_type": "markdown",
   "metadata": {},
   "source": [
    "Задание 4\n",
    "Создайте собственную дискретную случайную величину с 20 значениями. Сгенерируйте 1000 выборок размера 50. Посчитайте среднее для каждой выборки. Постройте гистограмму распределения средних."
   ]
  },
  {
   "cell_type": "code",
   "execution_count": 27,
   "metadata": {},
   "outputs": [],
   "source": [
    "from numpy.random import choice\n",
    "from scipy.stats import *"
   ]
  },
  {
   "cell_type": "code",
   "execution_count": 25,
   "metadata": {},
   "outputs": [
    {
     "data": {
      "text/plain": [
       "array([0.74893578, 0.17550365, 0.80426759, 0.49963496, 0.75629175,\n",
       "       0.15829446, 0.06030642, 0.15990067, 0.4612071 , 0.93498515,\n",
       "       0.19897007, 0.37826301, 0.25892809, 0.08108029, 0.20495148,\n",
       "       0.45906119, 0.26115592, 0.6281966 , 0.25344999, 0.10650512])"
      ]
     },
     "execution_count": 25,
     "metadata": {},
     "output_type": "execute_result"
    }
   ],
   "source": [
    "a = np.random.random(20)\n",
    "a"
   ]
  },
  {
   "cell_type": "code",
   "execution_count": null,
   "metadata": {},
   "outputs": [],
   "source": []
  },
  {
   "cell_type": "code",
   "execution_count": 28,
   "metadata": {},
   "outputs": [
    {
     "data": {
      "text/plain": [
       "array([0.93498515, 0.08108029, 0.6281966 , 0.93498515, 0.15990067,\n",
       "       0.75629175, 0.6281966 , 0.06030642, 0.15990067, 0.17550365,\n",
       "       0.10650512, 0.74893578, 0.19897007, 0.80426759, 0.80426759,\n",
       "       0.37826301, 0.93498515, 0.37826301, 0.80426759, 0.26115592,\n",
       "       0.10650512, 0.4612071 , 0.08108029, 0.75629175, 0.19897007,\n",
       "       0.20495148, 0.75629175, 0.06030642, 0.25892809, 0.37826301,\n",
       "       0.15829446, 0.4612071 , 0.15829446, 0.15829446, 0.25892809,\n",
       "       0.93498515, 0.10650512, 0.37826301, 0.25892809, 0.37826301,\n",
       "       0.4612071 , 0.6281966 , 0.25892809, 0.25892809, 0.37826301,\n",
       "       0.17550365, 0.08108029, 0.75629175, 0.10650512, 0.4612071 ])"
      ]
     },
     "execution_count": 28,
     "metadata": {},
     "output_type": "execute_result"
    }
   ],
   "source": [
    "a1 = choice(a, size=50)\n",
    "a1"
   ]
  },
  {
   "cell_type": "code",
   "execution_count": 30,
   "metadata": {},
   "outputs": [],
   "source": [
    "a2 = choice(a, size=(1000, 50))"
   ]
  },
  {
   "cell_type": "code",
   "execution_count": 31,
   "metadata": {},
   "outputs": [],
   "source": [
    "import statistics"
   ]
  },
  {
   "cell_type": "code",
   "execution_count": 34,
   "metadata": {},
   "outputs": [],
   "source": [
    "a2_mean = []\n",
    "for string in a2:\n",
    "    a2_mean.append(statistics.mean(string))\n"
   ]
  },
  {
   "cell_type": "code",
   "execution_count": 35,
   "metadata": {},
   "outputs": [
    {
     "data": {
      "image/png": "[encoded data removed]",
      "text/plain": [
       "<Figure size 432x288 with 1 Axes>"
      ]
     },
     "metadata": {
      "needs_background": "light"
     },
     "output_type": "display_data"
    }
   ],
   "source": [
    "plt.hist(a2_mean, density=True, color='Green')\n",
    "plt.show()"
   ]
  },
  {
   "cell_type": "markdown",
   "metadata": {},
   "source": [
    "Задание 5\n",
    "Найдите собственные значения и собственные вектора матрицы (на python и на бумаге)"
   ]
  },
  {
   "cell_type": "code",
   "execution_count": 4,
   "metadata": {},
   "outputs": [
    {
     "data": {
      "text/plain": [
       "array([[1, 4],\n",
       "       [1, 1]])"
      ]
     },
     "execution_count": 4,
     "metadata": {},
     "output_type": "execute_result"
    }
   ],
   "source": [
    "z = np.array([[1, 4], [1, 1]])\n",
    "z"
   ]
  },
  {
   "cell_type": "code",
   "execution_count": 3,
   "metadata": {},
   "outputs": [],
   "source": [
    "from numpy import linalg"
   ]
  },
  {
   "cell_type": "code",
   "execution_count": 5,
   "metadata": {},
   "outputs": [
    {
     "name": "stdout",
     "output_type": "stream",
     "text": [
      "Собственное значение 3.0000000000000004\n",
      "соответствующий ему собственный вектор [0.89442719 0.4472136 ]\n",
      "Собственное значение -0.9999999999999996\n",
      "соответствующий ему собственный вектор [-0.89442719  0.4472136 ]\n"
     ]
    }
   ],
   "source": [
    "w, v = linalg.eig(z)\n",
    "\n",
    "for i in range(len(w)):\n",
    "    print(\"Собственное значение \" + str(w[i]))\n",
    "    print(\"соответствующий ему собственный вектор \" + str(v[:,i]))"
   ]
  },
  {
   "cell_type": "code",
   "execution_count": null,
   "metadata": {},
   "outputs": [],
   "source": []
  }
 ],
 "metadata": {
  "kernelspec": {
   "display_name": "Python 3",
   "language": "python",
   "name": "python3"
  },
  "language_info": {
   "codemirror_mode": {
    "name": "ipython",
    "version": 3
   },
   "file_extension": ".py",
   "mimetype": "text/x-python",
   "name": "python",
   "nbconvert_exporter": "python",
   "pygments_lexer": "ipython3",
   "version": "3.7.6"
  }
 },
 "nbformat": 4,
 "nbformat_minor": 4
}
